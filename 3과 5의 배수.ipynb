{
 "cells": [
  {
   "cell_type": "markdown",
   "metadata": {},
   "source": [
    "## 3과 5의 배수"
   ]
  },
  {
   "cell_type": "markdown",
   "metadata": {},
   "source": [
    "N(1000이하의 자연수)을 입력하고 N 이하의 자연수 중 3의 배수, 5의 배수의 합을 구하는 프로그램을 작성하십시오.\n",
    "\n",
    "**입력**\n",
    "1000 이하 자연수\n",
    "\n",
    "**출력**\n",
    "\n",
    "N이하의 자연수 중 모든 3의 배수 그리고 5의 배수의 합"
   ]
  },
  {
   "cell_type": "code",
   "execution_count": 1,
   "metadata": {},
   "outputs": [
    {
     "name": "stdout",
     "output_type": "stream",
     "text": [
      "1000\n",
      "234168\n"
     ]
    }
   ],
   "source": [
    "# -*- coding: utf-8 -*-\n",
    "# UTF-8 encoding when using korean\n",
    "N = int(input())\n",
    "N = list(filter(lambda num: True if (num % 3 == 0 or num % 5 == 0) else False, range(1, N+1)))\n",
    "\n",
    "print(sum(N))"
   ]
  },
  {
   "cell_type": "code",
   "execution_count": null,
   "metadata": {},
   "outputs": [],
   "source": []
  }
 ],
 "metadata": {
  "kernelspec": {
   "display_name": "Python 3",
   "language": "python",
   "name": "python3"
  },
  "language_info": {
   "codemirror_mode": {
    "name": "ipython",
    "version": 3
   },
   "file_extension": ".py",
   "mimetype": "text/x-python",
   "name": "python",
   "nbconvert_exporter": "python",
   "pygments_lexer": "ipython3",
   "version": "3.7.2"
  }
 },
 "nbformat": 4,
 "nbformat_minor": 2
}
