{
 "cells": [
  {
   "cell_type": "markdown",
   "metadata": {},
   "source": [
    "## 땅따먹기"
   ]
  },
  {
   "cell_type": "markdown",
   "metadata": {},
   "source": [
    "#### 문제 설명\n",
    "땅따먹기 게임을 하려고 합니다. 땅따먹기 게임의 땅(land)은 총 N행 4열로 이루어져 있고, 모든 칸에는 점수가 쓰여 있습니다. 1행부터 땅을 밟으며 한 행씩 내려올 때, 각 행의 4칸 중 한 칸만 밟으면서 내려와야 합니다. 단, 땅따먹기 게임에는 한 행씩 내려올 때, 같은 열을 연속해서 밟을 수 없는 특수 규칙이 있습니다.\n",
    "\n",
    "예를 들면,  \n",
    "\n",
    "| 1 | 2 | 3 | 5 |  \n",
    "\n",
    "| 5 | 6 | 7 | 8 |  \n",
    "\n",
    "| 4 | 3 | 2 | 1 |  \n",
    "\n",
    "로 땅이 주어졌다면, 1행에서 네번째 칸 (5)를 밟았으면, 2행의 네번째 칸 (8)은 밟을 수 없습니다.  \n",
    "\n",
    "마지막 행까지 모두 내려왔을 때, 얻을 수 있는 점수의 최대값을 return하는 solution 함수를 완성해 주세요. 위 예의 경우, 1행의 네번째 칸 (5), 2행의 세번째 칸 (7), 3행의 첫번째 칸 (4) 땅을 밟아 16점이 최고점이 되므로 16을 return 하면 됩니다.\n",
    "\n",
    "#### 제한사항\n",
    "- 행의 개수 N : 100,000 이하의 자연수\n",
    "- 열의 개수는 4개이고, 땅(land)은 2차원 배열로 주어집니다.\n",
    "- 점수 : 100 이하의 자연수\n",
    "\n",
    "#### 입출력 예\n",
    "|land|answer|\n",
    "|-|-|\n",
    "|[[1,2,3,5],[5,6,7,8],[4,3,2,1]]|16|"
   ]
  },
  {
   "cell_type": "code",
   "execution_count": 60,
   "metadata": {},
   "outputs": [],
   "source": [
    "def solution(land):\n",
    "    table = [[x for x in sub] for sub in land] # 비교를 위한 복사\n",
    "    lst = []\n",
    "    num = 1\n",
    "    while num < len(land):\n",
    "        for i in range(0, len(land[0])): # 얘는 인덱스\n",
    "            lst.append(i)\n",
    "            for k in range(0, len(land[0])):\n",
    "                if k not in lst:\n",
    "                    #print(\"before\", land[num][k], \":\" ,land[num-1][i], \"k\", k )\n",
    "                    if land[num][k] < land[num-1][i] + table[num][k]:\n",
    "                        land[num][k] = land[num-1][i] + table[num][k]\n",
    "                        #print(\"after\", land[num][k], \":\" ,land[num-1][i] );\n",
    "            lst= []\n",
    "        num +=1\n",
    "    return max(land[len(land)-1])"
   ]
  },
  {
   "cell_type": "code",
   "execution_count": 61,
   "metadata": {},
   "outputs": [
    {
     "data": {
      "text/plain": [
       "16"
      ]
     },
     "execution_count": 61,
     "metadata": {},
     "output_type": "execute_result"
    }
   ],
   "source": [
    "solution([[1,2,3,5],[5,6,7,8],[4,3,2,1]])"
   ]
  },
  {
   "cell_type": "code",
   "execution_count": null,
   "metadata": {},
   "outputs": [],
   "source": []
  },
  {
   "cell_type": "code",
   "execution_count": null,
   "metadata": {},
   "outputs": [],
   "source": []
  }
 ],
 "metadata": {
  "kernelspec": {
   "display_name": "Python 3",
   "language": "python",
   "name": "python3"
  },
  "language_info": {
   "codemirror_mode": {
    "name": "ipython",
    "version": 3
   },
   "file_extension": ".py",
   "mimetype": "text/x-python",
   "name": "python",
   "nbconvert_exporter": "python",
   "pygments_lexer": "ipython3",
   "version": "3.7.2"
  }
 },
 "nbformat": 4,
 "nbformat_minor": 2
}
