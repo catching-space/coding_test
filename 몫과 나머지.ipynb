{
 "cells": [
  {
   "cell_type": "markdown",
   "metadata": {},
   "source": [
    "## 몫과 나머지"
   ]
  },
  {
   "cell_type": "markdown",
   "metadata": {},
   "source": [
    "두 양의 정수를 입력하고 앞에 입력한 수를 뒤에 입력한 수로 나눈 몫과 나머지를 순서대로 출력하는 포로그램을 작성해보시오."
   ]
  },
  {
   "cell_type": "markdown",
   "metadata": {},
   "source": [
    "**입력**\n",
    "\n",
    "양의 정수 A, B\n",
    "\n",
    "**출력**\n",
    "\n",
    "A를 B로 나눈 몫과 나머지"
   ]
  },
  {
   "cell_type": "code",
   "execution_count": 10,
   "metadata": {},
   "outputs": [
    {
     "name": "stdout",
     "output_type": "stream",
     "text": [
      "10 2\n",
      "5 0\n"
     ]
    }
   ],
   "source": [
    "num1, num2 = input().split()\n",
    "num1, num2 = int(num1), int(num2)\n",
    "print(num1 // num2, num1 % num2)"
   ]
  },
  {
   "cell_type": "code",
   "execution_count": null,
   "metadata": {},
   "outputs": [],
   "source": []
  }
 ],
 "metadata": {
  "kernelspec": {
   "display_name": "Python 3",
   "language": "python",
   "name": "python3"
  },
  "language_info": {
   "codemirror_mode": {
    "name": "ipython",
    "version": 3
   },
   "file_extension": ".py",
   "mimetype": "text/x-python",
   "name": "python",
   "nbconvert_exporter": "python",
   "pygments_lexer": "ipython3",
   "version": "3.7.2"
  }
 },
 "nbformat": 4,
 "nbformat_minor": 2
}
