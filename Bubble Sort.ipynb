{
 "cells": [
  {
   "cell_type": "markdown",
   "metadata": {},
   "source": [
    "## Bubble Sort"
   ]
  },
  {
   "cell_type": "markdown",
   "metadata": {},
   "source": [
    "Bubble sort는 인접한 원소를 검사하여 정렬하는 것을 반복하는 정렬이다. Time complexity 면에서는 좋지 않지만 단순하게 작성할 수 있는 장점이 있어서 자주 사용된다. Bubble sort로 오름차순 정렬을 진행하는 프로그램을 작성하십시오."
   ]
  },
  {
   "cell_type": "markdown",
   "metadata": {},
   "source": [
    "**입력**\n",
    "\n",
    "첫번째 줄에 Bubble 정렬을 진행할 수(들)의 개수를 입력하고\n",
    "\n",
    "둘째 줄에 해당 개수에 맞게 수를 입력한다.\n",
    "\n",
    "**출력**\n",
    "\n",
    "Bubble sort가 완료된 형태의 수열"
   ]
  },
  {
   "cell_type": "code",
   "execution_count": 8,
   "metadata": {
    "scrolled": true
   },
   "outputs": [
    {
     "data": {
      "text/plain": [
       "'[1, 2, 3, 4]'"
      ]
     },
     "execution_count": 8,
     "metadata": {},
     "output_type": "execute_result"
    }
   ],
   "source": [
    "str([1, 2, 3, 4])"
   ]
  },
  {
   "cell_type": "code",
   "execution_count": null,
   "metadata": {},
   "outputs": [],
   "source": [
    "def bubble_sort(arr):\n",
    "    for i in range(len(arr) - 1, 0, -1):\n",
    "        swapped = False\n",
    "        for j in range(i):\n",
    "            if arr[j] > arr[j + 1]:\n",
    "                arr[j], arr[j + 1] = arr[j + 1], arr[j]\n",
    "                swapped = True\n",
    "        if not swapped:\n",
    "            break"
   ]
  },
  {
   "cell_type": "code",
   "execution_count": 10,
   "metadata": {},
   "outputs": [
    {
     "name": "stdout",
     "output_type": "stream",
     "text": [
      "5\n",
      "3 5 1 4 2\n",
      "1 2 3 4 5\n"
     ]
    }
   ],
   "source": [
    "len_of_numbers = int(input())\n",
    "numbers = input()\n",
    "\n",
    "numbers = numbers.split(' ')\n",
    "numbers = list(map(lambda n: int(n), numbers))\n",
    "\n",
    "for i in range(len_of_numbers-1, 0, -1):\n",
    "    swap = False\n",
    "    for j in range(i):\n",
    "        if numbers[j] > numbers[j+1]:\n",
    "            numbers[j], numbers[j+1] = numbers[j+1], numbers[j]\n",
    "            swap = True\n",
    "    if not swap:\n",
    "        break\n",
    "\n",
    "numbers = list(map(lambda n: str(n), numbers))\n",
    "numbers = ' '.join(numbers)\n",
    "print(numbers)"
   ]
  },
  {
   "cell_type": "code",
   "execution_count": null,
   "metadata": {},
   "outputs": [],
   "source": []
  },
  {
   "cell_type": "code",
   "execution_count": null,
   "metadata": {},
   "outputs": [],
   "source": []
  }
 ],
 "metadata": {
  "kernelspec": {
   "display_name": "Python 3",
   "language": "python",
   "name": "python3"
  },
  "language_info": {
   "codemirror_mode": {
    "name": "ipython",
    "version": 3
   },
   "file_extension": ".py",
   "mimetype": "text/x-python",
   "name": "python",
   "nbconvert_exporter": "python",
   "pygments_lexer": "ipython3",
   "version": "3.7.2"
  }
 },
 "nbformat": 4,
 "nbformat_minor": 2
}
