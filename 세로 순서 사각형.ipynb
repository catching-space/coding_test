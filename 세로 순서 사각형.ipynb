{
 "cells": [
  {
   "cell_type": "markdown",
   "metadata": {},
   "source": [
    "## 세로 순서 사각형"
   ]
  },
  {
   "cell_type": "markdown",
   "metadata": {},
   "source": [
    "정사각형의 한 변의 길이 n을 입력받은 후 숫자로 된 정사각형 형태로 출력하는 프로그램을 작성하십시오.\n",
    "\n",
    "숫자의 진행 순서는 처음에 왼쪽 위에서 아래쪽으로 n만큼 진행한 후 바로 오른쪽 위에서 다시 아래쪽으로 진행하여 정사각형이 될 때까지 반복하는 것입니다.  "
   ]
  },
  {
   "cell_type": "markdown",
   "metadata": {},
   "source": [
    "**입력**\n",
    "\n",
    "20 이하의 자연수 \n",
    "\n",
    "**출력**\n",
    "\n",
    "한 변의 길이가 입력 값인 주어진 형태의 이차원 배열\n"
   ]
  },
  {
   "cell_type": "code",
   "execution_count": 1,
   "metadata": {},
   "outputs": [
    {
     "name": "stdout",
     "output_type": "stream",
     "text": [
      "10\n",
      "1 11 21 31 41 51 61 71 81 91 \n",
      "2 12 22 32 42 52 62 72 82 92 \n",
      "3 13 23 33 43 53 63 73 83 93 \n",
      "4 14 24 34 44 54 64 74 84 94 \n",
      "5 15 25 35 45 55 65 75 85 95 \n",
      "6 16 26 36 46 56 66 76 86 96 \n",
      "7 17 27 37 47 57 67 77 87 97 \n",
      "8 18 28 38 48 58 68 78 88 98 \n",
      "9 19 29 39 49 59 69 79 89 99 \n",
      "10 20 30 40 50 60 70 80 90 100 \n"
     ]
    }
   ],
   "source": [
    "n = int(input())\n",
    "\n",
    "\n",
    "for idx, num in enumerate(range(n)):\n",
    "\tvalue = idx + 1\n",
    "\tfor _ in range(n):\n",
    "\t\tprint(value, end=' ')\n",
    "\t\tvalue += n\n",
    "\tprint()"
   ]
  },
  {
   "cell_type": "code",
   "execution_count": null,
   "metadata": {},
   "outputs": [],
   "source": []
  }
 ],
 "metadata": {
  "kernelspec": {
   "display_name": "Python 3",
   "language": "python",
   "name": "python3"
  },
  "language_info": {
   "codemirror_mode": {
    "name": "ipython",
    "version": 3
   },
   "file_extension": ".py",
   "mimetype": "text/x-python",
   "name": "python",
   "nbconvert_exporter": "python",
   "pygments_lexer": "ipython3",
   "version": "3.7.2"
  }
 },
 "nbformat": 4,
 "nbformat_minor": 2
}
