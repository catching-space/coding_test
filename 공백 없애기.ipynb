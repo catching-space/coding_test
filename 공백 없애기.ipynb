{
 "cells": [
  {
   "cell_type": "markdown",
   "metadata": {},
   "source": [
    "## 공백 없애기"
   ]
  },
  {
   "cell_type": "markdown",
   "metadata": {},
   "source": [
    "이 문제는 입력된 문자열에서 공백을 제거하여 출력하는 프로그램을 작성하는 것입니다.\n",
    "\n",
    "예를 들어 \"This is Sparta !\"가 입력 되었다면 \"ThisisSparta!\"가 출력되도록 하면 되는 것 입니다."
   ]
  },
  {
   "cell_type": "markdown",
   "metadata": {},
   "source": [
    "**입력**\n",
    "\n",
    "50자 이내의 문장\n",
    "\n",
    "**출력**\n",
    "\n",
    "입력에서 공백이 제거된 문장 (입출력 예시 참고)"
   ]
  },
  {
   "cell_type": "code",
   "execution_count": 4,
   "metadata": {},
   "outputs": [
    {
     "name": "stdout",
     "output_type": "stream",
     "text": [
      "This is Sparta !\n"
     ]
    },
    {
     "data": {
      "text/plain": [
       "'ThisisSparta!'"
      ]
     },
     "execution_count": 4,
     "metadata": {},
     "output_type": "execute_result"
    }
   ],
   "source": [
    "user_input = input()\n",
    "\n",
    "str2list = list(user_input)\n",
    "str2list = list(filter(lambda s: s != ' ', str2list))\n",
    "result = ''.join(str2list)\n",
    "print(result)"
   ]
  },
  {
   "cell_type": "code",
   "execution_count": null,
   "metadata": {},
   "outputs": [],
   "source": []
  }
 ],
 "metadata": {
  "kernelspec": {
   "display_name": "Python 3",
   "language": "python",
   "name": "python3"
  },
  "language_info": {
   "codemirror_mode": {
    "name": "ipython",
    "version": 3
   },
   "file_extension": ".py",
   "mimetype": "text/x-python",
   "name": "python",
   "nbconvert_exporter": "python",
   "pygments_lexer": "ipython3",
   "version": "3.7.2"
  }
 },
 "nbformat": 4,
 "nbformat_minor": 2
}
