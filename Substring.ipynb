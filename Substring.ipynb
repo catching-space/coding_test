{
 "cells": [
  {
   "cell_type": "markdown",
   "metadata": {},
   "source": [
    "## Substring"
   ]
  },
  {
   "cell_type": "markdown",
   "metadata": {},
   "source": [
    "문자열을 입력하고, 문자열의 시작점과 시작점으로부터 잘라낼 문자의 개수를 입력하면 잘라낸 새로운 부분 문자열을 만드는 프로그램을 작성하십시오.\n",
    "\n",
    "예를 들어 'I Love Goorm !'에서 3번째 점부터 10개의 문자를 잘라 새로운 문자열을 만들면 'Lobe Goorm'이 될 것 입니다."
   ]
  },
  {
   "cell_type": "markdown",
   "metadata": {},
   "source": [
    "**입력**\n",
    "\n",
    "첫 줄에 문자열 입력\n",
    "다음 줄에 시작점과 시작점으로부터 자를 문자 수 입력\n",
    "\n",
    "**출력**\n",
    "\n",
    "Substring화 된 문자열(잘라낸 새로운 문자열)"
   ]
  },
  {
   "cell_type": "code",
   "execution_count": 2,
   "metadata": {},
   "outputs": [
    {
     "name": "stdout",
     "output_type": "stream",
     "text": [
      "I Love Goorm !\n",
      "3 10\n",
      "Love Goorm\n"
     ]
    }
   ],
   "source": [
    "s = input()\n",
    "start, finish = input().split()\n",
    "start, finish = int(start), int(finish)\n",
    "start -= 1\n",
    "print(s[start:start+finish])"
   ]
  },
  {
   "cell_type": "code",
   "execution_count": null,
   "metadata": {},
   "outputs": [],
   "source": []
  }
 ],
 "metadata": {
  "kernelspec": {
   "display_name": "Python 3",
   "language": "python",
   "name": "python3"
  },
  "language_info": {
   "codemirror_mode": {
    "name": "ipython",
    "version": 3
   },
   "file_extension": ".py",
   "mimetype": "text/x-python",
   "name": "python",
   "nbconvert_exporter": "python",
   "pygments_lexer": "ipython3",
   "version": "3.7.2"
  }
 },
 "nbformat": 4,
 "nbformat_minor": 2
}
