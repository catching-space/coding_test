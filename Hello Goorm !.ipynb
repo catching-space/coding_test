{
 "cells": [
  {
   "cell_type": "markdown",
   "metadata": {},
   "source": [
    "## Hello Goorm !"
   ]
  },
  {
   "cell_type": "markdown",
   "metadata": {},
   "source": [
    "이 문제는 여러분이 입력하신 숫자만큼 'Helo Goorm !'을 출력하면 되는 기본적인 문제입니다."
   ]
  },
  {
   "cell_type": "markdown",
   "metadata": {},
   "source": [
    "**입력**\n",
    "\n",
    "100 이하의 자연수"
   ]
  },
  {
   "cell_type": "markdown",
   "metadata": {},
   "source": [
    "**출력**\n",
    "\n",
    "입력한 수 만큼 Hello Goorm !"
   ]
  },
  {
   "cell_type": "markdown",
   "metadata": {},
   "source": [
    "입출력 예 1)\n",
    "\n",
    "입력: 1\n",
    "\n",
    "출력: Hello Goorm !\n",
    "\n",
    "출력: Hello Goorm !\n",
    "\n",
    "\n",
    "입출력 예 2)\n",
    "\n",
    "입력: 5\n",
    "\n",
    "출력:\n",
    "\n",
    "Hello Goorm !\n",
    "\n",
    "Hello Goorm !\n",
    "\n",
    "Hello Goorm !\n",
    "\n",
    "Hello Goorm !\n",
    "\n",
    "Hello Goorm !"
   ]
  },
  {
   "cell_type": "code",
   "execution_count": 1,
   "metadata": {},
   "outputs": [
    {
     "name": "stdout",
     "output_type": "stream",
     "text": [
      "100\n",
      "Hello Goorm !\n",
      "Hello Goorm !\n",
      "Hello Goorm !\n",
      "Hello Goorm !\n",
      "Hello Goorm !\n",
      "Hello Goorm !\n",
      "Hello Goorm !\n",
      "Hello Goorm !\n",
      "Hello Goorm !\n",
      "Hello Goorm !\n",
      "Hello Goorm !\n",
      "Hello Goorm !\n",
      "Hello Goorm !\n",
      "Hello Goorm !\n",
      "Hello Goorm !\n",
      "Hello Goorm !\n",
      "Hello Goorm !\n",
      "Hello Goorm !\n",
      "Hello Goorm !\n",
      "Hello Goorm !\n",
      "Hello Goorm !\n",
      "Hello Goorm !\n",
      "Hello Goorm !\n",
      "Hello Goorm !\n",
      "Hello Goorm !\n",
      "Hello Goorm !\n",
      "Hello Goorm !\n",
      "Hello Goorm !\n",
      "Hello Goorm !\n",
      "Hello Goorm !\n",
      "Hello Goorm !\n",
      "Hello Goorm !\n",
      "Hello Goorm !\n",
      "Hello Goorm !\n",
      "Hello Goorm !\n",
      "Hello Goorm !\n",
      "Hello Goorm !\n",
      "Hello Goorm !\n",
      "Hello Goorm !\n",
      "Hello Goorm !\n",
      "Hello Goorm !\n",
      "Hello Goorm !\n",
      "Hello Goorm !\n",
      "Hello Goorm !\n",
      "Hello Goorm !\n",
      "Hello Goorm !\n",
      "Hello Goorm !\n",
      "Hello Goorm !\n",
      "Hello Goorm !\n",
      "Hello Goorm !\n",
      "Hello Goorm !\n",
      "Hello Goorm !\n",
      "Hello Goorm !\n",
      "Hello Goorm !\n",
      "Hello Goorm !\n",
      "Hello Goorm !\n",
      "Hello Goorm !\n",
      "Hello Goorm !\n",
      "Hello Goorm !\n",
      "Hello Goorm !\n",
      "Hello Goorm !\n",
      "Hello Goorm !\n",
      "Hello Goorm !\n",
      "Hello Goorm !\n",
      "Hello Goorm !\n",
      "Hello Goorm !\n",
      "Hello Goorm !\n",
      "Hello Goorm !\n",
      "Hello Goorm !\n",
      "Hello Goorm !\n",
      "Hello Goorm !\n",
      "Hello Goorm !\n",
      "Hello Goorm !\n",
      "Hello Goorm !\n",
      "Hello Goorm !\n",
      "Hello Goorm !\n",
      "Hello Goorm !\n",
      "Hello Goorm !\n",
      "Hello Goorm !\n",
      "Hello Goorm !\n",
      "Hello Goorm !\n",
      "Hello Goorm !\n",
      "Hello Goorm !\n",
      "Hello Goorm !\n",
      "Hello Goorm !\n",
      "Hello Goorm !\n",
      "Hello Goorm !\n",
      "Hello Goorm !\n",
      "Hello Goorm !\n",
      "Hello Goorm !\n",
      "Hello Goorm !\n",
      "Hello Goorm !\n",
      "Hello Goorm !\n",
      "Hello Goorm !\n",
      "Hello Goorm !\n",
      "Hello Goorm !\n",
      "Hello Goorm !\n",
      "Hello Goorm !\n",
      "Hello Goorm !\n",
      "Hello Goorm !\n"
     ]
    }
   ],
   "source": [
    "# -*- coding: utf-8 -*-\n",
    "# UTF-8 encoding when using korean\n",
    "user_input = input()\n",
    "\n",
    "a = 'Hello Goorm !'\n",
    "\n",
    "for _ in range(int(user_input)):\n",
    "\tprint(a)"
   ]
  },
  {
   "cell_type": "code",
   "execution_count": null,
   "metadata": {},
   "outputs": [],
   "source": []
  }
 ],
 "metadata": {
  "kernelspec": {
   "display_name": "Python 3",
   "language": "python",
   "name": "python3"
  },
  "language_info": {
   "codemirror_mode": {
    "name": "ipython",
    "version": 3
   },
   "file_extension": ".py",
   "mimetype": "text/x-python",
   "name": "python",
   "nbconvert_exporter": "python",
   "pygments_lexer": "ipython3",
   "version": "3.7.2"
  }
 },
 "nbformat": 4,
 "nbformat_minor": 2
}
