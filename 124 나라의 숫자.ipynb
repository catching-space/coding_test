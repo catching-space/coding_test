{
 "cells": [
  {
   "cell_type": "markdown",
   "metadata": {},
   "source": [
    "## 124 나라의 숫자\n",
    "#### 문제 설명\n",
    "124 나라가 있습니다. 124 나라에서는 10진법이 아닌 다음과 같은 자신들만의 규칙으로 수를 표현합니다.\n",
    "\n",
    "1. 124 나라에는 자연수만 존재합니다.\n",
    "1. 124 나라에는 모든 수를 표현할 때 1, 2, 4만 사용합니다.\n",
    "\n",
    "예를 들어서 124 나라에서 사용하는 숫자는 다음과 같이 변환됩니다.\n",
    "\n",
    "|10진법|124 나라|10진법|124 나라|\n",
    "|-|-|-|-|\n",
    "|1|1|6|14|\n",
    "|2|2|7|21|\n",
    "|3|4|8|22|\n",
    "|4|11|9|24|\n",
    "|5|12|10|41|\n",
    "\n",
    "자연수 n이 매개변수로 주어질 때, n을 124 나라에서 사용하는 숫자로 바꾼 값을 return 하도록 solution 함수를 완성해 주세요.\n",
    "\n",
    "#### 제한사항\n",
    "- n은 500,000,000이하의 자연수 입니다.\n",
    "\n",
    "#### 입출력 예\n",
    "|n|result\n",
    "|-|-|\n",
    "|1|1|\n",
    "|2|2|\n",
    "|3|4|\n",
    "|4|11|"
   ]
  },
  {
   "cell_type": "code",
   "execution_count": 30,
   "metadata": {},
   "outputs": [],
   "source": [
    "def solution(n):\n",
    "    T = \"124\"\n",
    "    q, r = divmod(n-1, 3)\n",
    "    if q == 0:\n",
    "        return T[r]\n",
    "    else:\n",
    "        return solution(q) + T[r]"
   ]
  },
  {
   "cell_type": "code",
   "execution_count": 31,
   "metadata": {},
   "outputs": [
    {
     "data": {
      "text/plain": [
       "'1'"
      ]
     },
     "execution_count": 31,
     "metadata": {},
     "output_type": "execute_result"
    }
   ],
   "source": [
    "solution(1)"
   ]
  },
  {
   "cell_type": "code",
   "execution_count": 32,
   "metadata": {},
   "outputs": [
    {
     "data": {
      "text/plain": [
       "'2'"
      ]
     },
     "execution_count": 32,
     "metadata": {},
     "output_type": "execute_result"
    }
   ],
   "source": [
    "solution(2)"
   ]
  },
  {
   "cell_type": "code",
   "execution_count": 33,
   "metadata": {},
   "outputs": [
    {
     "data": {
      "text/plain": [
       "'4'"
      ]
     },
     "execution_count": 33,
     "metadata": {},
     "output_type": "execute_result"
    }
   ],
   "source": [
    "solution(3)"
   ]
  },
  {
   "cell_type": "code",
   "execution_count": 34,
   "metadata": {},
   "outputs": [
    {
     "data": {
      "text/plain": [
       "'11'"
      ]
     },
     "execution_count": 34,
     "metadata": {},
     "output_type": "execute_result"
    }
   ],
   "source": [
    "solution(4)"
   ]
  },
  {
   "cell_type": "code",
   "execution_count": null,
   "metadata": {},
   "outputs": [],
   "source": []
  }
 ],
 "metadata": {
  "kernelspec": {
   "display_name": "Python 3",
   "language": "python",
   "name": "python3"
  },
  "language_info": {
   "codemirror_mode": {
    "name": "ipython",
    "version": 3
   },
   "file_extension": ".py",
   "mimetype": "text/x-python",
   "name": "python",
   "nbconvert_exporter": "python",
   "pygments_lexer": "ipython3",
   "version": "3.7.2"
  }
 },
 "nbformat": 4,
 "nbformat_minor": 2
}
